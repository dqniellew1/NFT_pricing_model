{
  "nbformat": 4,
  "nbformat_minor": 0,
  "metadata": {
    "colab": {
      "name": "Penguins_data & model.ipynb",
      "provenance": [],
      "collapsed_sections": [],
      "authorship_tag": "ABX9TyPhFNKVMQVx+32DWvctNKIr",
      "include_colab_link": true
    },
    "kernelspec": {
      "name": "python3",
      "display_name": "Python 3"
    },
    "language_info": {
      "name": "python"
    },
    "widgets": {
      "application/vnd.jupyter.widget-state+json": {
        "328b3334f9484d0cbedf9896b9f49cc8": {
          "model_module": "@jupyter-widgets/controls",
          "model_name": "HBoxModel",
          "model_module_version": "1.5.0",
          "state": {
            "_view_name": "HBoxView",
            "_dom_classes": [],
            "_model_name": "HBoxModel",
            "_view_module": "@jupyter-widgets/controls",
            "_model_module_version": "1.5.0",
            "_view_count": null,
            "_view_module_version": "1.5.0",
            "box_style": "",
            "layout": "IPY_MODEL_9d84cd5a2d3d4ad5ba39dc5ed41623dc",
            "_model_module": "@jupyter-widgets/controls",
            "children": [
              "IPY_MODEL_aeafda381adb4218bae1a9cfb80550e0",
              "IPY_MODEL_11c8708ec40a4e879eb44221f777a5d7",
              "IPY_MODEL_57251eb388f2468ab8b06b23c506c3d3"
            ]
          }
        },
        "9d84cd5a2d3d4ad5ba39dc5ed41623dc": {
          "model_module": "@jupyter-widgets/base",
          "model_name": "LayoutModel",
          "model_module_version": "1.2.0",
          "state": {
            "_view_name": "LayoutView",
            "grid_template_rows": null,
            "right": null,
            "justify_content": null,
            "_view_module": "@jupyter-widgets/base",
            "overflow": null,
            "_model_module_version": "1.2.0",
            "_view_count": null,
            "flex_flow": null,
            "width": null,
            "min_width": null,
            "border": null,
            "align_items": null,
            "bottom": null,
            "_model_module": "@jupyter-widgets/base",
            "top": null,
            "grid_column": null,
            "overflow_y": null,
            "overflow_x": null,
            "grid_auto_flow": null,
            "grid_area": null,
            "grid_template_columns": null,
            "flex": null,
            "_model_name": "LayoutModel",
            "justify_items": null,
            "grid_row": null,
            "max_height": null,
            "align_content": null,
            "visibility": null,
            "align_self": null,
            "height": null,
            "min_height": null,
            "padding": null,
            "grid_auto_rows": null,
            "grid_gap": null,
            "max_width": null,
            "order": null,
            "_view_module_version": "1.2.0",
            "grid_template_areas": null,
            "object_position": null,
            "object_fit": null,
            "grid_auto_columns": null,
            "margin": null,
            "display": null,
            "left": null
          }
        },
        "aeafda381adb4218bae1a9cfb80550e0": {
          "model_module": "@jupyter-widgets/controls",
          "model_name": "HTMLModel",
          "model_module_version": "1.5.0",
          "state": {
            "_view_name": "HTMLView",
            "style": "IPY_MODEL_c5be4bb76c364f848e34cbe7019c1a4d",
            "_dom_classes": [],
            "description": "",
            "_model_name": "HTMLModel",
            "placeholder": "​",
            "_view_module": "@jupyter-widgets/controls",
            "_model_module_version": "1.5.0",
            "value": "100%",
            "_view_count": null,
            "_view_module_version": "1.5.0",
            "description_tooltip": null,
            "_model_module": "@jupyter-widgets/controls",
            "layout": "IPY_MODEL_5f699425b919471c82cfb5dda2ec0c43"
          }
        },
        "11c8708ec40a4e879eb44221f777a5d7": {
          "model_module": "@jupyter-widgets/controls",
          "model_name": "FloatProgressModel",
          "model_module_version": "1.5.0",
          "state": {
            "_view_name": "ProgressView",
            "style": "IPY_MODEL_5371a6138ced43db91d104bd71573ed2",
            "_dom_classes": [],
            "description": "",
            "_model_name": "FloatProgressModel",
            "bar_style": "success",
            "max": 178,
            "_view_module": "@jupyter-widgets/controls",
            "_model_module_version": "1.5.0",
            "value": 178,
            "_view_count": null,
            "_view_module_version": "1.5.0",
            "orientation": "horizontal",
            "min": 0,
            "description_tooltip": null,
            "_model_module": "@jupyter-widgets/controls",
            "layout": "IPY_MODEL_b0fa5e845b0248abb66ee3852be7a733"
          }
        },
        "57251eb388f2468ab8b06b23c506c3d3": {
          "model_module": "@jupyter-widgets/controls",
          "model_name": "HTMLModel",
          "model_module_version": "1.5.0",
          "state": {
            "_view_name": "HTMLView",
            "style": "IPY_MODEL_44516844e4d047d28295acad6f21b6ba",
            "_dom_classes": [],
            "description": "",
            "_model_name": "HTMLModel",
            "placeholder": "​",
            "_view_module": "@jupyter-widgets/controls",
            "_model_module_version": "1.5.0",
            "value": " 178/178 [03:53&lt;00:00,  1.46s/it]",
            "_view_count": null,
            "_view_module_version": "1.5.0",
            "description_tooltip": null,
            "_model_module": "@jupyter-widgets/controls",
            "layout": "IPY_MODEL_2e72cb1c93004829b8857a9dd1ef810f"
          }
        },
        "c5be4bb76c364f848e34cbe7019c1a4d": {
          "model_module": "@jupyter-widgets/controls",
          "model_name": "DescriptionStyleModel",
          "model_module_version": "1.5.0",
          "state": {
            "_view_name": "StyleView",
            "_model_name": "DescriptionStyleModel",
            "description_width": "",
            "_view_module": "@jupyter-widgets/base",
            "_model_module_version": "1.5.0",
            "_view_count": null,
            "_view_module_version": "1.2.0",
            "_model_module": "@jupyter-widgets/controls"
          }
        },
        "5f699425b919471c82cfb5dda2ec0c43": {
          "model_module": "@jupyter-widgets/base",
          "model_name": "LayoutModel",
          "model_module_version": "1.2.0",
          "state": {
            "_view_name": "LayoutView",
            "grid_template_rows": null,
            "right": null,
            "justify_content": null,
            "_view_module": "@jupyter-widgets/base",
            "overflow": null,
            "_model_module_version": "1.2.0",
            "_view_count": null,
            "flex_flow": null,
            "width": null,
            "min_width": null,
            "border": null,
            "align_items": null,
            "bottom": null,
            "_model_module": "@jupyter-widgets/base",
            "top": null,
            "grid_column": null,
            "overflow_y": null,
            "overflow_x": null,
            "grid_auto_flow": null,
            "grid_area": null,
            "grid_template_columns": null,
            "flex": null,
            "_model_name": "LayoutModel",
            "justify_items": null,
            "grid_row": null,
            "max_height": null,
            "align_content": null,
            "visibility": null,
            "align_self": null,
            "height": null,
            "min_height": null,
            "padding": null,
            "grid_auto_rows": null,
            "grid_gap": null,
            "max_width": null,
            "order": null,
            "_view_module_version": "1.2.0",
            "grid_template_areas": null,
            "object_position": null,
            "object_fit": null,
            "grid_auto_columns": null,
            "margin": null,
            "display": null,
            "left": null
          }
        },
        "5371a6138ced43db91d104bd71573ed2": {
          "model_module": "@jupyter-widgets/controls",
          "model_name": "ProgressStyleModel",
          "model_module_version": "1.5.0",
          "state": {
            "_view_name": "StyleView",
            "_model_name": "ProgressStyleModel",
            "description_width": "",
            "_view_module": "@jupyter-widgets/base",
            "_model_module_version": "1.5.0",
            "_view_count": null,
            "_view_module_version": "1.2.0",
            "bar_color": null,
            "_model_module": "@jupyter-widgets/controls"
          }
        },
        "b0fa5e845b0248abb66ee3852be7a733": {
          "model_module": "@jupyter-widgets/base",
          "model_name": "LayoutModel",
          "model_module_version": "1.2.0",
          "state": {
            "_view_name": "LayoutView",
            "grid_template_rows": null,
            "right": null,
            "justify_content": null,
            "_view_module": "@jupyter-widgets/base",
            "overflow": null,
            "_model_module_version": "1.2.0",
            "_view_count": null,
            "flex_flow": null,
            "width": null,
            "min_width": null,
            "border": null,
            "align_items": null,
            "bottom": null,
            "_model_module": "@jupyter-widgets/base",
            "top": null,
            "grid_column": null,
            "overflow_y": null,
            "overflow_x": null,
            "grid_auto_flow": null,
            "grid_area": null,
            "grid_template_columns": null,
            "flex": null,
            "_model_name": "LayoutModel",
            "justify_items": null,
            "grid_row": null,
            "max_height": null,
            "align_content": null,
            "visibility": null,
            "align_self": null,
            "height": null,
            "min_height": null,
            "padding": null,
            "grid_auto_rows": null,
            "grid_gap": null,
            "max_width": null,
            "order": null,
            "_view_module_version": "1.2.0",
            "grid_template_areas": null,
            "object_position": null,
            "object_fit": null,
            "grid_auto_columns": null,
            "margin": null,
            "display": null,
            "left": null
          }
        },
        "44516844e4d047d28295acad6f21b6ba": {
          "model_module": "@jupyter-widgets/controls",
          "model_name": "DescriptionStyleModel",
          "model_module_version": "1.5.0",
          "state": {
            "_view_name": "StyleView",
            "_model_name": "DescriptionStyleModel",
            "description_width": "",
            "_view_module": "@jupyter-widgets/base",
            "_model_module_version": "1.5.0",
            "_view_count": null,
            "_view_module_version": "1.2.0",
            "_model_module": "@jupyter-widgets/controls"
          }
        },
        "2e72cb1c93004829b8857a9dd1ef810f": {
          "model_module": "@jupyter-widgets/base",
          "model_name": "LayoutModel",
          "model_module_version": "1.2.0",
          "state": {
            "_view_name": "LayoutView",
            "grid_template_rows": null,
            "right": null,
            "justify_content": null,
            "_view_module": "@jupyter-widgets/base",
            "overflow": null,
            "_model_module_version": "1.2.0",
            "_view_count": null,
            "flex_flow": null,
            "width": null,
            "min_width": null,
            "border": null,
            "align_items": null,
            "bottom": null,
            "_model_module": "@jupyter-widgets/base",
            "top": null,
            "grid_column": null,
            "overflow_y": null,
            "overflow_x": null,
            "grid_auto_flow": null,
            "grid_area": null,
            "grid_template_columns": null,
            "flex": null,
            "_model_name": "LayoutModel",
            "justify_items": null,
            "grid_row": null,
            "max_height": null,
            "align_content": null,
            "visibility": null,
            "align_self": null,
            "height": null,
            "min_height": null,
            "padding": null,
            "grid_auto_rows": null,
            "grid_gap": null,
            "max_width": null,
            "order": null,
            "_view_module_version": "1.2.0",
            "grid_template_areas": null,
            "object_position": null,
            "object_fit": null,
            "grid_auto_columns": null,
            "margin": null,
            "display": null,
            "left": null
          }
        }
      }
    }
  },
  "cells": [
    {
      "cell_type": "markdown",
      "metadata": {
        "id": "view-in-github",
        "colab_type": "text"
      },
      "source": [
        "<a href=\"https://colab.research.google.com/github/dqniellew1/NFT_pricing_model/blob/main/Penguins_data_%26_model.ipynb\" target=\"_parent\"><img src=\"https://colab.research.google.com/assets/colab-badge.svg\" alt=\"Open In Colab\"/></a>"
      ]
    },
    {
      "cell_type": "code",
      "metadata": {
        "id": "P0WfSoki-Nod"
      },
      "source": [
        "import pandas as pd\n",
        "import numpy as np\n",
        "import json\n",
        "import requests\n",
        "import math\n",
        "from tqdm.auto import tqdm\n",
        "from itertools import chain\n",
        "import matplotlib.pyplot as plt\n",
        "import datetime\n",
        "from sklearn.ensemble import RandomForestRegressor\n",
        "from sklearn import model_selection\n",
        "from sklearn import preprocessing\n",
        "from sklearn import metrics\n",
        "import xgboost as xgb\n",
        "import matplotlib.style as style\n",
        "import joblib\n",
        "\n",
        "\n",
        "%matplotlib inline"
      ],
      "execution_count": 741,
      "outputs": []
    },
    {
      "cell_type": "code",
      "metadata": {
        "id": "ePplCoefF3lt",
        "cellView": "code"
      },
      "source": [
        "#@title\n",
        "token_ids = [x for x in range(0,8888)]"
      ],
      "execution_count": null,
      "outputs": []
    },
    {
      "cell_type": "code",
      "metadata": {
        "id": "B9bYwhTlGIsG",
        "cellView": "code"
      },
      "source": [
        "#@title\n",
        "def chunks(lst, n):\n",
        "    \"\"\"Yield successive n-sized chunks from lst.\"\"\"\n",
        "    for i in range(0, len(lst), n):\n",
        "        yield lst[i:i + n]"
      ],
      "execution_count": null,
      "outputs": []
    },
    {
      "cell_type": "code",
      "metadata": {
        "id": "HCq27omrE4WC",
        "cellView": "code"
      },
      "source": [
        "#@title\n",
        "id_groups = list(chunks(token_ids, 50))"
      ],
      "execution_count": null,
      "outputs": []
    },
    {
      "cell_type": "code",
      "metadata": {
        "colab": {
          "base_uri": "https://localhost:8080/",
          "height": 49,
          "referenced_widgets": [
            "328b3334f9484d0cbedf9896b9f49cc8",
            "9d84cd5a2d3d4ad5ba39dc5ed41623dc",
            "aeafda381adb4218bae1a9cfb80550e0",
            "11c8708ec40a4e879eb44221f777a5d7",
            "57251eb388f2468ab8b06b23c506c3d3",
            "c5be4bb76c364f848e34cbe7019c1a4d",
            "5f699425b919471c82cfb5dda2ec0c43",
            "5371a6138ced43db91d104bd71573ed2",
            "b0fa5e845b0248abb66ee3852be7a733",
            "44516844e4d047d28295acad6f21b6ba",
            "2e72cb1c93004829b8857a9dd1ef810f"
          ]
        },
        "id": "qiW536-19ypG",
        "cellView": "code",
        "outputId": "037124d6-1e95-446b-b698-624aee24c6d1"
      },
      "source": [
        "#@title\n",
        "penguin_list = []\n",
        "for id in tqdm(id_groups):\n",
        "    url = \"https://api.opensea.io/api/v1/assets\"\n",
        "\n",
        "    querystring = {\"token_ids\": id, \"asset_contract_address\":\"0xbd3531da5cf5857e7cfaa92426877b022e612cf8\",\"order_direction\":\"asc\",\"offset\":\"0\",\"limit\":\"50\"}\n",
        "\n",
        "    response = requests.request(\"GET\", url, params=querystring).json()\n",
        "\n",
        "    penguin_list.append(response)\n",
        "\n"
      ],
      "execution_count": null,
      "outputs": [
        {
          "output_type": "display_data",
          "data": {
            "application/vnd.jupyter.widget-view+json": {
              "model_id": "328b3334f9484d0cbedf9896b9f49cc8",
              "version_minor": 0,
              "version_major": 2
            },
            "text/plain": [
              "  0%|          | 0/178 [00:00<?, ?it/s]"
            ]
          },
          "metadata": {
            "tags": []
          }
        }
      ]
    },
    {
      "cell_type": "code",
      "metadata": {
        "id": "xJZfHQ11djUO"
      },
      "source": [
        "url = \"https://api.opensea.io/api/v1/collection/pudgypenguins\"\n",
        "\n",
        "querystring = {\"offset\":0, \"limit\": 1}\n",
        "\n",
        "stat_response = requests.request(\"GET\", url, params=querystring).json()\n",
        "\n",
        "stats = pd.json_normalize(stat_response['collection'])[['stats.floor_price']]\n",
        "#['stats.seven_day_volume','stats.seven_day_change','stats.seven_day_sales','stats.seven_day_average_price','stats.num_owners']"
      ],
      "execution_count": null,
      "outputs": []
    },
    {
      "cell_type": "code",
      "metadata": {
        "id": "8xhlqgfNl_xd",
        "cellView": "code"
      },
      "source": [
        "def process_data(nft_asset_list, stats):\n",
        "    penguins = [x['assets'] for x in nft_asset_list]\n",
        "    df_penguins = pd.DataFrame(list(chain(*penguins)))\n",
        "\n",
        "    df_penguins['sell_orders'] = df_penguins['sell_orders'].apply(lambda x: {} if pd.isna(x) else x)\n",
        "    so = pd.json_normalize(list(chain(*df_penguins['sell_orders'])))\n",
        "    so['listing_token_price'] = (so['current_price'].astype(float)/10**so['payment_token_contract.decimals'].astype(float))\n",
        "    so['listing_usd_price'] = (so['listing_token_price'].astype(float) * so['payment_token_contract.usd_price'].astype(float))    \n",
        "    so['listing_eth_price'] = (so['listing_usd_price'].astype(float) / so['payment_token_contract.usd_price'].median().astype(float))\n",
        "    so = so[['metadata.asset.id','listing_usd_price', 'listing_eth_price']]\n",
        "\n",
        "    df_penguins = df_penguins.merge(so, how='left', left_on= 'token_id', right_on='metadata.asset.id')\n",
        "\n",
        "    cols = ['id','token_id','num_sales','image_url', 'permalink', 'listing_usd_price', 'listing_eth_price'] #'listing_usd_price', 'listing_eth_price'\n",
        "    desc = df_penguins[cols]\n",
        "\n",
        "    owner = pd.json_normalize(df_penguins['owner'])['address']\n",
        "\n",
        "    traits = pd.json_normalize(list(chain(*df_penguins['traits']))).pivot(columns='trait_type', values=['value', 'trait_count']).apply(lambda x: pd.Series(x.dropna().values))\n",
        "\n",
        "    df_penguins['last_sale'] = df_penguins['last_sale'].apply(lambda x: {} if pd.isna(x) else x)\n",
        "    last_sale_cols = ['created_date','last_sold_token','last_sold_usd','last_sold_eth','payment_token.usd_price']\n",
        "    last_sale = pd.json_normalize(df_penguins['last_sale'])\n",
        "    last_sale['last_sold_token'] = last_sale['total_price'].astype(float)/10**last_sale['payment_token.decimals']\n",
        "    last_sale['last_sold_usd'] = last_sale['payment_token.usd_price'].astype(float) * last_sale['last_sold_token'].astype(float)\n",
        "    last_sale['last_sold_eth'] = (last_sale['last_sold_usd'].astype(float) / last_sale['payment_token.usd_price'].median().astype(float))\n",
        "    last_sale.loc[:, ['last_sold_eth']] = last_sale['last_sold_eth'].astype(float).fillna(0.03)\n",
        "    last_sale['last_sold_usd'] = last_sale['payment_token.usd_price'].median().astype(float) * last_sale['last_sold_eth'].astype(float)\n",
        "\n",
        "    last_sale = last_sale[last_sale_cols]\n",
        "    last_sale.columns = ['last_sold_date','last_sold_token','last_sold_usd', 'last_sold_eth', 'payment_token.usd_price']\n",
        "    last_sale['last_sold_date'] = pd.to_datetime(last_sale['last_sold_date'])\n",
        "    last_sale['last_sold_date'].fillna(value=pd.to_datetime('2021/07/22'), inplace=True) \n",
        "    last_sale['last_sold_date'] = last_sale['last_sold_date'].dt.normalize()\n",
        "    last_sale['mean_sale_eth_day'] = last_sale.groupby('last_sold_date')['last_sold_eth'].transform('mean')\n",
        "    last_sale['max_sale_eth_day'] = last_sale.groupby('last_sold_date')['last_sold_eth'].transform('max')\n",
        "    last_sale['mean_sale_usd_day'] = last_sale['mean_sale_eth_day'] * last_sale['payment_token.usd_price'].median().astype(float)\n",
        "    last_sale['max_sale_usd_day'] = last_sale['max_sale_eth_day'] * last_sale['payment_token.usd_price'].median().astype(float)\n",
        "\n",
        "    penguins_combine = pd.concat([desc, owner, traits, last_sale], axis=1)\n",
        "    new_name = ['id','token_id','num_sales','image_url','permalink', 'listing_usd_price', 'listing_eth_price',\n",
        "                'address','Background','Body','Face','Head','Skin','Background_count','Body_count',\n",
        "                'Face_count','Head_count','Skin_count','last_sold_date','last_sold_token','last_sold_usd','last_sold_eth','payment_token.usd_price',\n",
        "                'mean_sale_eth_day','max_sale_eth_day','mean_sale_usd_day','max_sale_usd_day']\n",
        "    penguins_combine.columns = new_name\n",
        "    penguins_combine.loc[penguins_combine['Head'] == 'None', ['Head_count']] = '0'\n",
        "    for col in ('Background','Body','Face','Head','Skin'):\n",
        "        penguins_combine[col+'1'] = penguins_combine[col].apply(lambda x: 1 if x != 'None' else 0)\n",
        "    penguins_combine['Trait_count'] = penguins_combine['Background1'] + penguins_combine['Body1'] + penguins_combine['Face1'] + penguins_combine['Head1'] + penguins_combine['Skin1']\n",
        "    penguins_combine.drop(['Background1','Body1','Face1','Head1','Skin1'], axis=1, inplace=True)\n",
        "\n",
        "    penguins_combine['rarity_score'] = penguins_combine['Background_count'].astype(int) + penguins_combine['Body_count'].astype(int) + penguins_combine['Face_count'].astype(int) + penguins_combine['Head_count'].astype(int) + penguins_combine['Skin_count'].astype(int)\n",
        "    penguins_combine['number_owned'] = penguins_combine.groupby('address')['address'].transform('count')\n",
        "    trait_count = ['Background_count','Body_count','Face_count','Head_count','Skin_count']\n",
        "    for col in trait_count:\n",
        "        penguins_combine[col] = penguins_combine[col].astype(float)/8888\n",
        "\n",
        "    pengu_all = pd.concat([penguins_combine,stats],1).ffill()\n",
        "\n",
        "    pengu_all['stats.floor_price_usd'] = pengu_all['stats.floor_price'].astype(float) * pengu_all['payment_token.usd_price'].astype(float).median()\n",
        "    pengu_all['mint_multiple'] = pengu_all['last_sold_eth'].astype(float) / 0.03\n",
        "    pengu_all['listing_multiple'] = pengu_all['listing_usd_price'].astype(float) / pengu_all['stats.floor_price_usd'].astype(float)\n",
        "\n",
        "    pengu_all['last_sold_usd_log'] = pengu_all['last_sold_usd'].apply(lambda x: np.log1p(x))\n",
        "    pengu_all['last_sold_eth_log'] = pengu_all['last_sold_eth'].apply(lambda x: np.log1p(x))\n",
        "    #pengu_all['listing_usd_log'] = pengu_all['listing_usd_price'].apply(lambda x: np.log1p(x))\n",
        "    pengu_all['num_sold_day'] = pengu_all.groupby('last_sold_date')['num_sales'].transform('count')\n",
        "\n",
        "    num_cols = ['num_sales', 'Background_count', 'Body_count','Face_count', 'Head_count', \n",
        "            'Skin_count','rarity_score','number_owned', 'mint_multiple']\n",
        "\n",
        "    for col in num_cols:\n",
        "        # do not fill numerical columns\n",
        "        pengu_all.loc[:, col] = pengu_all[col].astype(float).fillna(0)\n",
        "    \n",
        "    pengu_all['Trait_count_avg_price'] = pengu_all.groupby('Trait_count')['last_sold_eth'].transform('mean')\n",
        "    pengu_all['Trait_count_avg_usd_price'] = pengu_all['Trait_count_avg_price'] * pengu_all['payment_token.usd_price'].astype(float).median()\n",
        "\n",
        "    pengu_all.loc[pengu_all['listing_eth_price'] > 150, ['listing_eth_price']] = '200'\n",
        "    pengu_all['listing_usd_price'] = pengu_all['listing_eth_price'].astype(float) * pengu_all['payment_token.usd_price'].astype(float).median()\n",
        "    pengu_all['listing_usd_price'].fillna(pengu_all['listing_usd_price'].median(), inplace=True)\n",
        "    pengu_all['listing_multiple'] = pengu_all['listing_usd_price'].astype(float) / pengu_all['stats.floor_price_usd'].astype(float)\n",
        "\n",
        "    return pengu_all"
      ],
      "execution_count": 696,
      "outputs": []
    },
    {
      "cell_type": "code",
      "metadata": {
        "id": "guNo3DB-96Vm",
        "cellView": "code"
      },
      "source": [
        "pengus = process_data(penguin_list, stats)"
      ],
      "execution_count": 697,
      "outputs": []
    },
    {
      "cell_type": "code",
      "metadata": {
        "id": "yan5tFqPF1Xr"
      },
      "source": [
        "# export as csv\n",
        "#pengus.to_csv('pengus.csv')"
      ],
      "execution_count": 675,
      "outputs": []
    },
    {
      "cell_type": "markdown",
      "metadata": {
        "id": "n5jewKO01X3e"
      },
      "source": [
        "## Modeling"
      ]
    },
    {
      "cell_type": "code",
      "metadata": {
        "id": "fvQmT2Xc56m7"
      },
      "source": [
        "df = pengus.copy()"
      ],
      "execution_count": 698,
      "outputs": []
    },
    {
      "cell_type": "code",
      "metadata": {
        "id": "OwhR-ZsOPPrC"
      },
      "source": [
        "features = [f for f in df.columns if f not in ('id','token_id','image_url', 'permalink','address', \n",
        "                                                   'last_sold_token','last_sold_eth','last_sold_usd','listing_eth_price',\n",
        "                                                   'payment_token.usd_price', 'stats.floor_price',\n",
        "                                                   'last_sold_usd_log','stats.num_owners',\n",
        "                                                   'Background','Body', 'Face', 'Head', 'Skin','preds_usd', 'last_sold_date',\n",
        "                                               'mean_sale_eth_day','max_sale_eth_day','Trait_count_avg_price')]"
      ],
      "execution_count": 709,
      "outputs": []
    },
    {
      "cell_type": "code",
      "metadata": {
        "id": "5Rk83NM-1Iig"
      },
      "source": [
        "train_df, test_df = model_selection.train_test_split(df, train_size = 0.8)"
      ],
      "execution_count": 710,
      "outputs": []
    },
    {
      "cell_type": "code",
      "metadata": {
        "id": "XIy0YFTZ1hBO"
      },
      "source": [
        "def create_folds(data):\n",
        "    # create folds for training data\n",
        "    # create kfold column and fill -1\n",
        "    data['kfold'] = -1\n",
        "\n",
        "    # randomize data\n",
        "    data = data.sample(frac=1).reset_index(drop=True)\n",
        "\n",
        "    # calculate the number of bins by Sturge's rule\n",
        "    # Take floor or round it\n",
        "    #num_bins = int(np.floor(1 + np.log2(len(data))))\n",
        "\n",
        "    # bin targets\n",
        "    # cut to sort data into bins\n",
        "    data.loc[:, \"bins\"] = pd.cut(\n",
        "        data[\"last_sold_usd\"], bins=20, labels=False\n",
        "    )\n",
        "\n",
        "    # initiate kfold\n",
        "    kf = model_selection.StratifiedKFold(n_splits=5)\n",
        "\n",
        "    # fill the new k-fold column\n",
        "    # use bins for target since regression\n",
        "    for f, (t_, v_) in enumerate(kf.split(X=data, y=data.bins.values)):\n",
        "        data.loc[v_, 'kfold'] = f\n",
        "\n",
        "    # drop the bins column\n",
        "    data = data.drop(\"bins\", axis=1)\n",
        "    # return dataframe with folds\n",
        "    return data"
      ],
      "execution_count": 711,
      "outputs": []
    },
    {
      "cell_type": "code",
      "metadata": {
        "colab": {
          "base_uri": "https://localhost:8080/"
        },
        "id": "tt1kXQLC1y8a",
        "outputId": "b102157b-5b5b-45d3-b1a7-00f96d6aef27"
      },
      "source": [
        "df_pengu = create_folds(train_df)"
      ],
      "execution_count": 712,
      "outputs": [
        {
          "output_type": "stream",
          "text": [
            "/usr/local/lib/python3.7/dist-packages/ipykernel_launcher.py:4: SettingWithCopyWarning: \n",
            "A value is trying to be set on a copy of a slice from a DataFrame.\n",
            "Try using .loc[row_indexer,col_indexer] = value instead\n",
            "\n",
            "See the caveats in the documentation: https://pandas.pydata.org/pandas-docs/stable/user_guide/indexing.html#returning-a-view-versus-a-copy\n",
            "  after removing the cwd from sys.path.\n",
            "/usr/local/lib/python3.7/dist-packages/sklearn/model_selection/_split.py:667: UserWarning: The least populated class in y has only 1 members, which is less than n_splits=5.\n",
            "  % (min_groups, self.n_splits)), UserWarning)\n"
          ],
          "name": "stderr"
        }
      ]
    },
    {
      "cell_type": "code",
      "metadata": {
        "id": "jWVrVwxm4osQ"
      },
      "source": [
        "# # Label encode the features\n",
        "# for col in features:\n",
        "#     if col in cat_cols:\n",
        "#         # initialize LabelEncoder on every feature column\n",
        "#         lbl = preprocessing.LabelEncoder()\n",
        "\n",
        "#         # fit on full data\n",
        "#         lbl.fit(pd.concat([df_pengu[col], test_df[col]], axis=0, sort=False))\n",
        "#         np.save('pengu_cat_class.npy', lbl.classes_)\n",
        "\n",
        "#         # transform on full data/ test\n",
        "#         pengu_all.loc[:, col] = lbl.transform(pengu_all[col])\n",
        "#         df_pengu.loc[:, col] = lbl.transform(df_pengu[col])\n",
        "#         test_df.loc[:, col] = lbl.transform(test_df[col])"
      ],
      "execution_count": 713,
      "outputs": []
    },
    {
      "cell_type": "code",
      "metadata": {
        "id": "TV05S3xx5inS"
      },
      "source": [
        "model = RandomForestRegressor(n_jobs=-1, n_estimators=40,\n",
        "        max_samples=2500, max_features=0.5,\n",
        "        min_samples_leaf=8, oob_score=True)"
      ],
      "execution_count": 714,
      "outputs": []
    },
    {
      "cell_type": "code",
      "metadata": {
        "id": "-sSgmaY95c0H"
      },
      "source": [
        "def run(fold, df, model):\n",
        "    # get training data with folds\n",
        "    df_train = df[df.kfold != fold].reset_index(drop=True)\n",
        "\n",
        "    # get validation data with folds\n",
        "    df_valid = df[df.kfold == fold].reset_index(drop=True)\n",
        "\n",
        "    # get training data\n",
        "    x_train = df_train[features].values\n",
        "\n",
        "    # get validation data\n",
        "    x_valid = df_valid[features].values\n",
        "\n",
        "    # fit model on training data\n",
        "    model.fit(x_train, df_train.last_sold_usd_log.values)\n",
        "    \n",
        "    # get predictions from validation data\n",
        "    valid_preds = model.predict(x_valid)\n",
        "\n",
        "    # get scores\n",
        "    mse = metrics.mean_squared_error(df_valid.last_sold_usd_log.values, valid_preds)\n",
        "    mae = metrics.mean_absolute_error(df_valid.last_sold_usd_log.values, valid_preds)\n",
        "    rmse = np.sqrt(mse)\n",
        "    r2 = metrics.r2_score(df_valid.last_sold_usd_log.values, valid_preds)\n",
        "    # print score\n",
        "    print(f\"Fold = {fold}, RMSE = {rmse}, MSE = {mse}, r2 = {r2}, MAE = {mae}\")"
      ],
      "execution_count": 715,
      "outputs": []
    },
    {
      "cell_type": "code",
      "metadata": {
        "colab": {
          "base_uri": "https://localhost:8080/"
        },
        "id": "OPkxBi0s6j7A",
        "outputId": "b0ce679d-2d23-4eb8-cd3b-1e351614359b"
      },
      "source": [
        "#  market data in usd\n",
        "for fold_ in range(5):\n",
        "    run(fold_, df_pengu, model)"
      ],
      "execution_count": 716,
      "outputs": [
        {
          "output_type": "stream",
          "text": [
            "Fold = 0, RMSE = 0.039784121466262375, MSE = 0.0015827763208423186, r2 = 0.9995034837137039, MAE = 0.012647758610692917\n",
            "Fold = 1, RMSE = 0.03594959020952308, MSE = 0.0012923730362326379, r2 = 0.9996103200842161, MAE = 0.01138580260296327\n",
            "Fold = 2, RMSE = 0.03691344701337381, MSE = 0.0013626025704091558, r2 = 0.9995765319923361, MAE = 0.010753877059116968\n",
            "Fold = 3, RMSE = 0.15478895405915474, MSE = 0.023959620298727117, r2 = 0.9929252350782233, MAE = 0.01813154364577507\n",
            "Fold = 4, RMSE = 0.07638004534253244, MSE = 0.005833911326527312, r2 = 0.9981576385770943, MAE = 0.012382996544913965\n"
          ],
          "name": "stdout"
        }
      ]
    },
    {
      "cell_type": "code",
      "metadata": {
        "colab": {
          "base_uri": "https://localhost:8080/"
        },
        "id": "OOT8jiVtXNLw",
        "outputId": "b7ce9946-74ea-441e-e570-a0fd3885ff74"
      },
      "source": [
        "# fit full model\n",
        "model.fit(df[features], df.last_sold_usd_log.values)"
      ],
      "execution_count": 731,
      "outputs": [
        {
          "output_type": "execute_result",
          "data": {
            "text/plain": [
              "RandomForestRegressor(bootstrap=True, ccp_alpha=0.0, criterion='mse',\n",
              "                      max_depth=None, max_features=0.5, max_leaf_nodes=None,\n",
              "                      max_samples=2500, min_impurity_decrease=0.0,\n",
              "                      min_impurity_split=None, min_samples_leaf=8,\n",
              "                      min_samples_split=2, min_weight_fraction_leaf=0.0,\n",
              "                      n_estimators=40, n_jobs=-1, oob_score=True,\n",
              "                      random_state=None, verbose=0, warm_start=False)"
            ]
          },
          "metadata": {
            "tags": []
          },
          "execution_count": 731
        }
      ]
    },
    {
      "cell_type": "code",
      "metadata": {
        "colab": {
          "base_uri": "https://localhost:8080/"
        },
        "id": "8rLPw9XNXT7g",
        "outputId": "d8e9bdd3-3c39-493a-a892-c6686830e826"
      },
      "source": [
        "joblib.dump(model, \"rf_ppg_model.joblib\")"
      ],
      "execution_count": 735,
      "outputs": [
        {
          "output_type": "execute_result",
          "data": {
            "text/plain": [
              "['rf_ppg_model.joblib']"
            ]
          },
          "metadata": {
            "tags": []
          },
          "execution_count": 735
        }
      ]
    },
    {
      "cell_type": "code",
      "metadata": {
        "id": "tKA5ySK1XsLd"
      },
      "source": [
        "loaded_rf = joblib.load(\"rf_ppg_model.joblib\")"
      ],
      "execution_count": 736,
      "outputs": []
    },
    {
      "cell_type": "code",
      "metadata": {
        "id": "3RK8m08wz579"
      },
      "source": [
        "# Predict using loaded model\n",
        "preds_usd = np.stack([t.predict(df[features]) for t in loaded_rf.estimators_])\n",
        "df['preds_usd'] = np.expm1(preds_usd[-1])"
      ],
      "execution_count": null,
      "outputs": []
    },
    {
      "cell_type": "code",
      "metadata": {
        "id": "8vms1IqO8iaf",
        "colab": {
          "base_uri": "https://localhost:8080/",
          "height": 587
        },
        "outputId": "1e938286-bbee-48c3-e80b-a68e8b297e8e"
      },
      "source": [
        "# predicted vs real price\n",
        "plt.scatter(x='last_sold_usd', y='preds_usd', s=10, data=df)"
      ],
      "execution_count": 739,
      "outputs": [
        {
          "output_type": "execute_result",
          "data": {
            "text/plain": [
              "<matplotlib.collections.PathCollection at 0x7f2dbaa75b90>"
            ]
          },
          "metadata": {
            "tags": []
          },
          "execution_count": 739
        },
        {
          "output_type": "display_data",
          "data": {
            "image/png": "[encoded data removed]",
            "text/plain": [
              "<Figure size 921.6x633.6 with 1 Axes>"
            ]
          },
          "metadata": {
            "tags": []
          }
        }
      ]
    },
    {
      "cell_type": "code",
      "metadata": {
        "id": "YOstTxsj6Lme"
      },
      "source": [
        "# preds_usd = np.stack([t.predict(test_df[features]) for t in model.estimators_])\n",
        "# test_df['preds_usd'] = np.expm1(preds_usd[-1])"
      ],
      "execution_count": 737,
      "outputs": []
    },
    {
      "cell_type": "code",
      "metadata": {
        "colab": {
          "base_uri": "https://localhost:8080/",
          "height": 419
        },
        "id": "Lfc22-y99AGr",
        "outputId": "3c7e202c-7b3b-4f15-8e51-4c43ba58cfc7"
      },
      "source": [
        "# keep real & predicted prices\n",
        "df['payment_token.usd_price'].fillna(df['payment_token.usd_price'].median(), inplace=True)\n",
        "df['preds_eth'] = df['preds_usd'] / df['payment_token.usd_price'].astype(float)\n",
        "df[['last_sold_usd','last_sold_eth', 'preds_usd', 'preds_eth']]"
      ],
      "execution_count": 755,
      "outputs": [
        {
          "output_type": "execute_result",
          "data": {
            "text/html": [
              "<div>\n",
              "<style scoped>\n",
              "    .dataframe tbody tr th:only-of-type {\n",
              "        vertical-align: middle;\n",
              "    }\n",
              "\n",
              "    .dataframe tbody tr th {\n",
              "        vertical-align: top;\n",
              "    }\n",
              "\n",
              "    .dataframe thead th {\n",
              "        text-align: right;\n",
              "    }\n",
              "</style>\n",
              "<table border=\"1\" class=\"dataframe\">\n",
              "  <thead>\n",
              "    <tr style=\"text-align: right;\">\n",
              "      <th></th>\n",
              "      <th>last_sold_usd</th>\n",
              "      <th>last_sold_eth</th>\n",
              "      <th>preds_usd</th>\n",
              "      <th>preds_eth</th>\n",
              "    </tr>\n",
              "  </thead>\n",
              "  <tbody>\n",
              "    <tr>\n",
              "      <th>0</th>\n",
              "      <td>99.9654</td>\n",
              "      <td>0.03</td>\n",
              "      <td>99.965400</td>\n",
              "      <td>0.030000</td>\n",
              "    </tr>\n",
              "    <tr>\n",
              "      <th>1</th>\n",
              "      <td>9330.1040</td>\n",
              "      <td>2.80</td>\n",
              "      <td>9331.634655</td>\n",
              "      <td>2.800459</td>\n",
              "    </tr>\n",
              "    <tr>\n",
              "      <th>2</th>\n",
              "      <td>833.0450</td>\n",
              "      <td>0.25</td>\n",
              "      <td>832.696442</td>\n",
              "      <td>0.249895</td>\n",
              "    </tr>\n",
              "    <tr>\n",
              "      <th>3</th>\n",
              "      <td>1666.0900</td>\n",
              "      <td>0.50</td>\n",
              "      <td>1653.955595</td>\n",
              "      <td>0.496358</td>\n",
              "    </tr>\n",
              "    <tr>\n",
              "      <th>4</th>\n",
              "      <td>1499.4810</td>\n",
              "      <td>0.45</td>\n",
              "      <td>1506.708010</td>\n",
              "      <td>0.452169</td>\n",
              "    </tr>\n",
              "    <tr>\n",
              "      <th>...</th>\n",
              "      <td>...</td>\n",
              "      <td>...</td>\n",
              "      <td>...</td>\n",
              "      <td>...</td>\n",
              "    </tr>\n",
              "    <tr>\n",
              "      <th>8883</th>\n",
              "      <td>6664.3600</td>\n",
              "      <td>2.00</td>\n",
              "      <td>6578.448271</td>\n",
              "      <td>1.974218</td>\n",
              "    </tr>\n",
              "    <tr>\n",
              "      <th>8884</th>\n",
              "      <td>11662.6300</td>\n",
              "      <td>3.50</td>\n",
              "      <td>11641.724050</td>\n",
              "      <td>3.493726</td>\n",
              "    </tr>\n",
              "    <tr>\n",
              "      <th>8885</th>\n",
              "      <td>11662.6300</td>\n",
              "      <td>3.50</td>\n",
              "      <td>11599.177877</td>\n",
              "      <td>3.480958</td>\n",
              "    </tr>\n",
              "    <tr>\n",
              "      <th>8886</th>\n",
              "      <td>8263.8064</td>\n",
              "      <td>2.48</td>\n",
              "      <td>8267.635770</td>\n",
              "      <td>2.481149</td>\n",
              "    </tr>\n",
              "    <tr>\n",
              "      <th>8887</th>\n",
              "      <td>3998.6160</td>\n",
              "      <td>1.20</td>\n",
              "      <td>4113.365996</td>\n",
              "      <td>1.234437</td>\n",
              "    </tr>\n",
              "  </tbody>\n",
              "</table>\n",
              "<p>8888 rows × 4 columns</p>\n",
              "</div>"
            ],
            "text/plain": [
              "      last_sold_usd  last_sold_eth     preds_usd  preds_eth\n",
              "0           99.9654           0.03     99.965400   0.030000\n",
              "1         9330.1040           2.80   9331.634655   2.800459\n",
              "2          833.0450           0.25    832.696442   0.249895\n",
              "3         1666.0900           0.50   1653.955595   0.496358\n",
              "4         1499.4810           0.45   1506.708010   0.452169\n",
              "...             ...            ...           ...        ...\n",
              "8883      6664.3600           2.00   6578.448271   1.974218\n",
              "8884     11662.6300           3.50  11641.724050   3.493726\n",
              "8885     11662.6300           3.50  11599.177877   3.480958\n",
              "8886      8263.8064           2.48   8267.635770   2.481149\n",
              "8887      3998.6160           1.20   4113.365996   1.234437\n",
              "\n",
              "[8888 rows x 4 columns]"
            ]
          },
          "metadata": {
            "tags": []
          },
          "execution_count": 755
        }
      ]
    },
    {
      "cell_type": "code",
      "metadata": {
        "id": "jFsRHgj_7LfT"
      },
      "source": [
        "def r_mse(pred,y): return round(math.sqrt(((pred-y)**2).mean()), 6)"
      ],
      "execution_count": 723,
      "outputs": []
    },
    {
      "cell_type": "code",
      "metadata": {
        "colab": {
          "base_uri": "https://localhost:8080/"
        },
        "id": "EQIGm2RU7GKh",
        "outputId": "6a27f4f7-b724-4948-fe32-cd76918280fc"
      },
      "source": [
        "r_mse(preds_usd.mean(0), test_df['last_sold_usd_log'].values)"
      ],
      "execution_count": 724,
      "outputs": [
        {
          "output_type": "execute_result",
          "data": {
            "text/plain": [
              "0.047235"
            ]
          },
          "metadata": {
            "tags": []
          },
          "execution_count": 724
        }
      ]
    },
    {
      "cell_type": "code",
      "metadata": {
        "colab": {
          "base_uri": "https://localhost:8080/",
          "height": 572
        },
        "id": "mPaUmPzQ7egN",
        "outputId": "2c5f7eb3-82ab-419e-edf9-588544678774"
      },
      "source": [
        "#usd\n",
        "plt.plot([r_mse(preds_usd[:i+1].mean(0), test_df['last_sold_usd_log'].values) for i in range(40)]);"
      ],
      "execution_count": 725,
      "outputs": [
        {
          "output_type": "display_data",
          "data": {
            "image/png": "[encoded data removed]",
            "text/plain": [
              "<Figure size 921.6x633.6 with 1 Axes>"
            ]
          },
          "metadata": {
            "tags": []
          }
        }
      ]
    },
    {
      "cell_type": "code",
      "metadata": {
        "id": "qverjJrk7qfT"
      },
      "source": [
        "def rf_feat_importance(m, df):\n",
        "    return pd.DataFrame({'cols':df.columns, 'imp':m.feature_importances_}\n",
        "                       ).sort_values('imp', ascending=False)"
      ],
      "execution_count": 726,
      "outputs": []
    },
    {
      "cell_type": "code",
      "metadata": {
        "colab": {
          "base_uri": "https://localhost:8080/",
          "height": 359
        },
        "id": "hSC0RtcV8UFW",
        "outputId": "17da540e-b137-46a6-c22b-0a44cff5bf76"
      },
      "source": [
        "# usd\n",
        "fi = rf_feat_importance(model, df_pengu[features])\n",
        "fi[:10]"
      ],
      "execution_count": 727,
      "outputs": [
        {
          "output_type": "execute_result",
          "data": {
            "text/html": [
              "<div>\n",
              "<style scoped>\n",
              "    .dataframe tbody tr th:only-of-type {\n",
              "        vertical-align: middle;\n",
              "    }\n",
              "\n",
              "    .dataframe tbody tr th {\n",
              "        vertical-align: top;\n",
              "    }\n",
              "\n",
              "    .dataframe thead th {\n",
              "        text-align: right;\n",
              "    }\n",
              "</style>\n",
              "<table border=\"1\" class=\"dataframe\">\n",
              "  <thead>\n",
              "    <tr style=\"text-align: right;\">\n",
              "      <th></th>\n",
              "      <th>cols</th>\n",
              "      <th>imp</th>\n",
              "    </tr>\n",
              "  </thead>\n",
              "  <tbody>\n",
              "    <tr>\n",
              "      <th>13</th>\n",
              "      <td>mint_multiple</td>\n",
              "      <td>0.449974</td>\n",
              "    </tr>\n",
              "    <tr>\n",
              "      <th>15</th>\n",
              "      <td>last_sold_eth_log</td>\n",
              "      <td>0.425964</td>\n",
              "    </tr>\n",
              "    <tr>\n",
              "      <th>8</th>\n",
              "      <td>max_sale_usd_day</td>\n",
              "      <td>0.080014</td>\n",
              "    </tr>\n",
              "    <tr>\n",
              "      <th>7</th>\n",
              "      <td>mean_sale_usd_day</td>\n",
              "      <td>0.031240</td>\n",
              "    </tr>\n",
              "    <tr>\n",
              "      <th>16</th>\n",
              "      <td>num_sold_day</td>\n",
              "      <td>0.010368</td>\n",
              "    </tr>\n",
              "    <tr>\n",
              "      <th>5</th>\n",
              "      <td>Head_count</td>\n",
              "      <td>0.001383</td>\n",
              "    </tr>\n",
              "    <tr>\n",
              "      <th>0</th>\n",
              "      <td>num_sales</td>\n",
              "      <td>0.000455</td>\n",
              "    </tr>\n",
              "    <tr>\n",
              "      <th>3</th>\n",
              "      <td>Body_count</td>\n",
              "      <td>0.000160</td>\n",
              "    </tr>\n",
              "    <tr>\n",
              "      <th>10</th>\n",
              "      <td>rarity_score</td>\n",
              "      <td>0.000082</td>\n",
              "    </tr>\n",
              "    <tr>\n",
              "      <th>4</th>\n",
              "      <td>Face_count</td>\n",
              "      <td>0.000082</td>\n",
              "    </tr>\n",
              "  </tbody>\n",
              "</table>\n",
              "</div>"
            ],
            "text/plain": [
              "                 cols       imp\n",
              "13      mint_multiple  0.449974\n",
              "15  last_sold_eth_log  0.425964\n",
              "8    max_sale_usd_day  0.080014\n",
              "7   mean_sale_usd_day  0.031240\n",
              "16       num_sold_day  0.010368\n",
              "5          Head_count  0.001383\n",
              "0           num_sales  0.000455\n",
              "3          Body_count  0.000160\n",
              "10       rarity_score  0.000082\n",
              "4          Face_count  0.000082"
            ]
          },
          "metadata": {
            "tags": []
          },
          "execution_count": 727
        }
      ]
    },
    {
      "cell_type": "code",
      "metadata": {
        "colab": {
          "base_uri": "https://localhost:8080/",
          "height": 438
        },
        "id": "9012bNzq8jDR",
        "outputId": "1f819518-e8a9-4323-e403-fb51979212b8"
      },
      "source": [
        "def plot_fi(fi):\n",
        "    return fi.plot('cols', 'imp', 'barh', figsize=(12,7), legend=False)\n",
        "\n",
        "plot_fi(fi[:30]);"
      ],
      "execution_count": 744,
      "outputs": [
        {
          "output_type": "display_data",
          "data": {
            "image/png": "[encoded data removed]",
            "text/plain": [
              "<Figure size 864x504 with 1 Axes>"
            ]
          },
          "metadata": {
            "tags": [],
            "needs_background": "light"
          }
        }
      ]
    },
    {
      "cell_type": "code",
      "metadata": {
        "id": "GGDw5zx_jEN3"
      },
      "source": [
        ""
      ],
      "execution_count": null,
      "outputs": []
    }
  ]
}